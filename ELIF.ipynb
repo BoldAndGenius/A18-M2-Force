{
 "cells": [
  {
   "cell_type": "markdown",
   "metadata": {},
   "source": [
    "54. Write a program to check the relation between two integer numbers"
   ]
  },
  {
   "cell_type": "code",
   "execution_count": 4,
   "metadata": {},
   "outputs": [
    {
     "name": "stdout",
     "output_type": "stream",
     "text": [
      "given all number is equal\n"
     ]
    }
   ],
   "source": [
    "num1=int(input(\"Enter the number 1 :\"))\n",
    "num2=int(input(\"Enter the number 2 :\"))\n",
    "\n",
    "if(num1>num2):\n",
    "    print(f\"{num1} is grater then {num2}\")\n",
    "elif num1==num2:\n",
    "    print(\"Given two numbers is equal\")\n",
    "else:\n",
    "    print(f\"{num2} is grater then {num1}\")\n",
    "  \n",
    "    "
   ]
  },
  {
   "cell_type": "markdown",
   "metadata": {},
   "source": [
    "55. Write a program to check whether a given character is uppercase or\n",
    "lowercase or number. If character is uppercase print uppercase, If\n",
    "character is lowercase print lowercase. If the character is a number, print\n",
    "the ascii number of it."
   ]
  },
  {
   "cell_type": "code",
   "execution_count": 9,
   "metadata": {},
   "outputs": [
    {
     "name": "stdout",
     "output_type": "stream",
     "text": [
      "U is Uppercase\n"
     ]
    }
   ],
   "source": [
    "char=input(\"Enter a character :\")\n",
    "if char.isupper():\n",
    "    print(f\"{char} is Uppercase\")\n",
    "elif char.islower():\n",
    "    print(f\"{char} is Lowercase\")\n",
    "elif char.isnumeric():\n",
    "    print(f\" ASCII value of {char} is {ord(char)}\")"
   ]
  },
  {
   "cell_type": "markdown",
   "metadata": {},
   "source": [
    "56. Write a program to check whether a given character is a vowel or\n",
    "consonant. If a given character is a vowel, store the character inside the\n",
    "list. If a given character is consonant, display the ASCII value of that\n",
    "character."
   ]
  },
  {
   "cell_type": "code",
   "execution_count": 12,
   "metadata": {},
   "outputs": [
    {
     "name": "stdout",
     "output_type": "stream",
     "text": [
      "ASCII value of k is 107\n"
     ]
    }
   ],
   "source": [
    "char=input(\"Enter a character :\")\n",
    "vowel=[]\n",
    "if char in 'AEIOUaeiou':\n",
    "    vowel.append(char)\n",
    "    print(vowel)\n",
    "elif 'A'<=char<'z':\n",
    "    print(f'ASCII value of {char} is {ord(char)}')\n",
    "else:\n",
    "    print(f\"{char} is not a vowel and consonant\")\n"
   ]
  },
  {
   "cell_type": "markdown",
   "metadata": {},
   "source": [
    "57. Write a program to check whether a given character is uppercase. If it is\n",
    "uppercase, convert it to lowercase.Else PRINT LOWERCASE.\n"
   ]
  },
  {
   "cell_type": "code",
   "execution_count": 14,
   "metadata": {},
   "outputs": [
    {
     "name": "stdout",
     "output_type": "stream",
     "text": [
      "t\n"
     ]
    }
   ],
   "source": [
    "char=input(\"Enter the character\")\n",
    "if char.isupper():\n",
    "    print(char.lower())\n",
    "elif char.islower():\n",
    "    print(\"Lowercase\")"
   ]
  },
  {
   "cell_type": "markdown",
   "metadata": {},
   "source": [
    "58. Write a program to checkWhether the entered character is a number. If\n",
    "it is a number, print the ASCII value of that number."
   ]
  },
  {
   "cell_type": "code",
   "execution_count": 16,
   "metadata": {},
   "outputs": [
    {
     "name": "stdout",
     "output_type": "stream",
     "text": [
      "ASCII value of 7 is 55\n"
     ]
    }
   ],
   "source": [
    "char=input(\"Enter the character\")\n",
    "if char.isnumeric():\n",
    "    print(f\"ASCII value of {char} is {ord(char)}\")\n",
    "else:\n",
    "    print(f'{char } is not a numeric')"
   ]
  },
  {
   "cell_type": "code",
   "execution_count": null,
   "metadata": {},
   "outputs": [],
   "source": []
  }
 ],
 "metadata": {
  "kernelspec": {
   "display_name": "Python 3",
   "language": "python",
   "name": "python3"
  },
  "language_info": {
   "codemirror_mode": {
    "name": "ipython",
    "version": 3
   },
   "file_extension": ".py",
   "mimetype": "text/x-python",
   "name": "python",
   "nbconvert_exporter": "python",
   "pygments_lexer": "ipython3",
   "version": "3.12.4"
  }
 },
 "nbformat": 4,
 "nbformat_minor": 2
}
