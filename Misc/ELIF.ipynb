{
 "cells": [
  {
   "cell_type": "markdown",
   "metadata": {},
   "source": [
    "54. Write a program to check the relation between two integer numbers"
   ]
  },
  {
   "cell_type": "code",
   "execution_count": 4,
   "metadata": {},
   "outputs": [
    {
     "name": "stdout",
     "output_type": "stream",
     "text": [
      "given all number is equal\n"
     ]
    }
   ],
   "source": [
    "num1=int(input(\"Enter the number 1 :\"))\n",
    "num2=int(input(\"Enter the number 2 :\"))\n",
    "\n",
    "if(num1>num2):\n",
    "    print(f\"{num1} is grater then {num2}\")\n",
    "elif num1==num2:\n",
    "    print(\"Given two numbers is equal\")\n",
    "else:\n",
    "    print(f\"{num2} is grater then {num1}\")\n",
    "  \n",
    "    "
   ]
  },
  {
   "cell_type": "markdown",
   "metadata": {},
   "source": [
    "55. Write a program to check whether a given character is uppercase or\n",
    "lowercase or number. If character is uppercase print uppercase, If\n",
    "character is lowercase print lowercase. If the character is a number, print\n",
    "the ascii number of it."
   ]
  },
  {
   "cell_type": "code",
   "execution_count": 9,
   "metadata": {},
   "outputs": [
    {
     "name": "stdout",
     "output_type": "stream",
     "text": [
      "U is Uppercase\n"
     ]
    }
   ],
   "source": [
    "char=input(\"Enter a character :\")\n",
    "if char.isupper():\n",
    "    print(f\"{char} is Uppercase\")\n",
    "elif char.islower():\n",
    "    print(f\"{char} is Lowercase\")\n",
    "elif char.isnumeric():\n",
    "    print(f\" ASCII value of {char} is {ord(char)}\")"
   ]
  },
  {
   "cell_type": "markdown",
   "metadata": {},
   "source": [
    "56. Write a program to check whether a given character is a vowel or\n",
    "consonant. If a given character is a vowel, store the character inside the\n",
    "list. If a given character is consonant, display the ASCII value of that\n",
    "character."
   ]
  },
  {
   "cell_type": "code",
   "execution_count": 12,
   "metadata": {},
   "outputs": [
    {
     "name": "stdout",
     "output_type": "stream",
     "text": [
      "ASCII value of k is 107\n"
     ]
    }
   ],
   "source": [
    "char=input(\"Enter a character :\")\n",
    "vowel=[]\n",
    "if char in 'AEIOUaeiou':\n",
    "    vowel.append(char)\n",
    "    print(vowel)\n",
    "elif 'A'<=char<'z':\n",
    "    print(f'ASCII value of {char} is {ord(char)}')\n",
    "else:\n",
    "    print(f\"{char} is not a vowel and consonant\")\n"
   ]
  },
  {
   "cell_type": "markdown",
   "metadata": {},
   "source": [
    "57. Write a program to check whether a given character is uppercase. If it is\n",
    "uppercase, convert it to lowercase.Else PRINT LOWERCASE.\n"
   ]
  },
  {
   "cell_type": "code",
   "execution_count": 14,
   "metadata": {},
   "outputs": [
    {
     "name": "stdout",
     "output_type": "stream",
     "text": [
      "t\n"
     ]
    }
   ],
   "source": [
    "char=input(\"Enter the character :\")\n",
    "if char.isupper():\n",
    "    print(char.lower())\n",
    "elif char.islower():\n",
    "    print(\"Lowercase\")"
   ]
  },
  {
   "cell_type": "markdown",
   "metadata": {},
   "source": [
    "58. Write a program to checkWhether the entered character is a number. If\n",
    "it is a number, print the ASCII value of that number."
   ]
  },
  {
   "cell_type": "code",
   "execution_count": 16,
   "metadata": {},
   "outputs": [
    {
     "name": "stdout",
     "output_type": "stream",
     "text": [
      "ASCII value of 7 is 55\n"
     ]
    }
   ],
   "source": [
    "char=input(\"Enter the character :\")\n",
    "if char.isnumeric():\n",
    "    print(f\"ASCII value of {char} is {ord(char)}\")\n",
    "else:\n",
    "    print(f'{char } is not a numeric')"
   ]
  },
  {
   "cell_type": "markdown",
   "metadata": {},
   "source": [
    "59. Write a program to check whether given character is uppercase, print its\n",
    "lowercase character or if given character is lowercase print its uppercase\n",
    "character or if given character is special character print the character after\n",
    "adding 8 to the ascii value of that particle special character"
   ]
  },
  {
   "cell_type": "code",
   "execution_count": 12,
   "metadata": {},
   "outputs": [
    {
     "name": "stdout",
     "output_type": "stream",
     "text": [
      "50\n"
     ]
    }
   ],
   "source": [
    "char=input(\"Enter the character :\")\n",
    "if char.isupper():\n",
    "    print(char.lower())\n",
    "elif char.islower():\n",
    "    print(char.upper())\n",
    "elif not(char.isdigit()):\n",
    "    print(ord(char)+8)"
   ]
  },
  {
   "cell_type": "markdown",
   "metadata": {},
   "source": [
    "60. Write a program to check whether the last character of a given string is\n",
    "a special character or not.\n"
   ]
  },
  {
   "cell_type": "code",
   "execution_count": 17,
   "metadata": {},
   "outputs": [
    {
     "name": "stdout",
     "output_type": "stream",
     "text": [
      "last character \"@\" is special character\n"
     ]
    }
   ],
   "source": [
    "string=input(\"Enter Any String :\")\n",
    "char=string[-1]\n",
    "if not(char.isalnum()):\n",
    "    print(f'last character \"{char}\" is special character')\n",
    "else:\n",
    "    print(f'last character \"{char}\" is not a special character')"
   ]
  },
  {
   "cell_type": "markdown",
   "metadata": {},
   "source": [
    "61. Write a program to check if the middle value of heterogeneous tuple\n",
    "collection is integer or not."
   ]
  },
  {
   "cell_type": "code",
   "execution_count": 40,
   "metadata": {},
   "outputs": [
    {
     "name": "stdout",
     "output_type": "stream",
     "text": [
      "mid element 6, 5 is integer\n"
     ]
    }
   ],
   "source": [
    "tuple=eval(input(\"enter the heterogeneous tuple \"))\n",
    "length=len(tuple)\n",
    "if length==0:\n",
    "    print (\"tuple is empty\")\n",
    "elif length %2 !=0:\n",
    "    mid=length//2\n",
    "    if type(tuple[mid])==int:\n",
    "        print(f\"mid element {tuple[mid]} is integer\")\n",
    "    else:\n",
    "        print(f\"mid element {tuple[mid]} is not integer\")\n",
    "\n",
    "else:\n",
    "    mid1=length//2\n",
    "    mid2=length//2 -1\n",
    "    if type(tuple[mid1])==int and type(tuple[mid2])==int:\n",
    "          print(f\"mid element {tuple[mid1]}, {tuple[mid2]} is integer\")\n",
    "    else:\n",
    "        print(f\"mid element {tuple[mid1]}, {tuple[mid2]} is  not integer\")\n"
   ]
  }
 ],
 "metadata": {
  "kernelspec": {
   "display_name": "Python 3",
   "language": "python",
   "name": "python3"
  },
  "language_info": {
   "codemirror_mode": {
    "name": "ipython",
    "version": 3
   },
   "file_extension": ".py",
   "mimetype": "text/x-python",
   "name": "python",
   "nbconvert_exporter": "python",
   "pygments_lexer": "ipython3",
   "version": "3.12.4"
  }
 },
 "nbformat": 4,
 "nbformat_minor": 2
}
