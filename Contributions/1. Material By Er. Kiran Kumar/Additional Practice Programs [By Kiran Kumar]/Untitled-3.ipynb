{
 "cells": [
  {
   "cell_type": "code",
   "execution_count": null,
   "metadata": {},
   "outputs": [
    {
     "data": {
      "text/plain": [
       "4\n",
       "6\n",
       "6\n",
       "8\n",
       "8\n",
       "9\n",
       "10\n",
       "10\n"
      ]
     },
     "metadata": {},
     "output_type": "display_data"
    }
   ],
   "source": [
    "start = 1\n",
    "end = 10 \n",
    "while start <= end:\n",
    "   # start = 1\n",
    "   for num in range(2,start):\n",
    "      if start % num == 0:\n",
    "         print(start)\n",
    "   start = start + 1\n",
    "\n"
   ]
  },
  {
   "cell_type": "code",
   "execution_count": null,
   "metadata": {},
   "outputs": [
    {
     "data": {
      "text/plain": [
       "3\n",
       "4\n",
       "5\n",
       "5\n",
       "5\n",
       "6\n",
       "6\n",
       "7\n",
       "7\n",
       "7\n",
       "7\n",
       "7\n",
       "8\n",
       "8\n",
       "8\n",
       "8\n",
       "9\n",
       "9\n",
       "9\n",
       "9\n",
       "9\n",
       "9\n",
       "10\n",
       "10\n",
       "10\n",
       "10\n",
       "10\n",
       "10\n"
      ]
     },
     "metadata": {},
     "output_type": "display_data"
    }
   ],
   "source": [
    "start = 1\n",
    "end = 10 \n",
    "while start <= end:\n",
    "   # start = 1\n",
    "   for num in range(2,start):\n",
    "      if start % num != 0:\n",
    "         print(start)\n",
    "   start = start + 1\n",
    "\n"
   ]
  },
  {
   "cell_type": "code",
   "execution_count": null,
   "metadata": {},
   "outputs": [
    {
     "data": {
      "text/plain": [
       "1\n",
       "2\n",
       "3\n",
       "4\n",
       "5\n",
       "6\n",
       "7\n",
       "8\n",
       "9\n",
       "10\n"
      ]
     },
     "metadata": {},
     "output_type": "display_data"
    }
   ],
   "source": [
    "start = 1\n",
    "end = 10 \n",
    "while start <= end:\n",
    "   # start = 1\n",
    "   # for num in range(2,start):\n",
    "   #    if start % num != 0:\n",
    "   #       print(start)\n",
    "   print(start)\n",
    "   start = start + 1\n",
    "\n"
   ]
  },
  {
   "cell_type": "code",
   "execution_count": null,
   "metadata": {},
   "outputs": [
    {
     "data": {
      "text/plain": [
       "3\n",
       "4\n",
       "5\n",
       "5\n",
       "5\n",
       "6\n",
       "6\n",
       "7\n",
       "7\n",
       "7\n",
       "7\n",
       "7\n",
       "8\n",
       "8\n",
       "8\n",
       "8\n",
       "9\n",
       "9\n",
       "9\n",
       "9\n",
       "9\n",
       "9\n",
       "10\n",
       "10\n",
       "10\n",
       "10\n",
       "10\n",
       "10\n"
      ]
     },
     "metadata": {},
     "output_type": "display_data"
    }
   ],
   "source": [
    "start = 1\n",
    "end = 10 \n",
    "while start <= end:\n",
    "   # start = 1\n",
    "   for num in range(2,start):\n",
    "      if start % num != 0:\n",
    "         print(start)\n",
    "   # print(start)\n",
    "   start = start + 1\n",
    "\n"
   ]
  },
  {
   "cell_type": "code",
   "execution_count": null,
   "metadata": {},
   "outputs": [],
   "source": []
  }
 ],
 "metadata": {
  "language_info": {
   "name": "python"
  }
 },
 "nbformat": 4,
 "nbformat_minor": 2
}
